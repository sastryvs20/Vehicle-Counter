{
 "cells": [
  {
   "cell_type": "markdown",
   "id": "bec3723e",
   "metadata": {},
   "source": [
    "# Introduction"
   ]
  },
  {
   "cell_type": "markdown",
   "id": "b765a2ea",
   "metadata": {},
   "source": [
    "Object detection is all about detecting objects in an image or video stream and keeping track of them.In this project we primarily focus on crafting an efficient system that detects and simultaneously counts the number of vehicles passing through a video stream. Vehicle counter systems have many real world applications such as in traffic monitoring and tool booth systems."
   ]
  },
  {
   "cell_type": "markdown",
   "id": "98715361",
   "metadata": {},
   "source": [
    "# Vehicle Counter"
   ]
  },
  {
   "cell_type": "code",
   "execution_count": null,
   "id": "58adcdb4",
   "metadata": {},
   "outputs": [],
   "source": [
    "# Importing required libraries\n",
    "import numpy as np\n",
    "import cv2\n",
    "\n",
    "# Creating a video capture object to read the video file\n",
    "cap = cv2.VideoCapture(\"C:\\\\Users\\\\sastr\\\\Downloads\\\\video.mp4\")\n",
    "\n",
    "# Defining minimum width and height of the object to be detected and line position to count vehicles\n",
    "min_width = 80\n",
    "min_height = 80\n",
    "line_position = 550\n",
    "\n",
    "# Creating a background subtraction object using MOG algorithm\n",
    "algo = cv2.bgsegm.createBackgroundSubtractorMOG()\n",
    "\n",
    "# Defining a function to calculate the center of the detected object\n",
    "def counter(x,y,w,h):\n",
    "    x1 = int(w/2)\n",
    "    y1 = int(h/2)\n",
    "    cx = x+x1\n",
    "    cy = y+y1\n",
    "    return cx,cy\n",
    "\n",
    "# Creating empty list to store centers of the detected objects\n",
    "detect = []\n",
    "# Defining offset to consider vehicles on the line\n",
    "offset = 6\n",
    "# Initializing counter variable\n",
    "count = 0\n",
    "\n",
    "# Starting an infinite loop to read frames from video\n",
    "while True:\n",
    "    # Reading a frame from the video\n",
    "    ret,frame1 = cap.read()\n",
    "    # Converting the frame to grayscale\n",
    "    grey = cv2.cvtColor(frame1,cv2.COLOR_BGR2GRAY)\n",
    "    # Applying Gaussian blur to reduce noise\n",
    "    blur = cv2.GaussianBlur(grey,(3,3),5)\n",
    "\n",
    "    # Applying background subtraction to detect moving objects\n",
    "    img_sub = algo.apply(blur)\n",
    "    # Dilating the detected objects to fill gaps\n",
    "    dilat = cv2.dilate(img_sub,np.ones((5,5)))\n",
    "    # Applying morphological closing to remove small holes\n",
    "    kernel = cv2.getStructuringElement(cv2.MORPH_ELLIPSE,(5,5))\n",
    "    dilatada = cv2.morphologyEx(dilat,cv2.MORPH_CLOSE,kernel)\n",
    "    dilatada = cv2.morphologyEx(dilatada, cv2.MORPH_CLOSE, kernel)\n",
    "\n",
    "    # Finding contours of the detected objects\n",
    "    counter_shape,h = cv2.findContours(dilatada,cv2.RETR_TREE,cv2.CHAIN_APPROX_SIMPLE)\n",
    "    # Drawing a line to count vehicles\n",
    "    cv2.line(frame1,(0,line_position),(1300,line_position),(0,0,255),2)\n",
    "\n",
    "    # Looping through all the detected objects\n",
    "    for (i,c) in enumerate(counter_shape):\n",
    "        # Getting the coordinates and dimensions of the detected object\n",
    "        x,y,w,h = cv2.boundingRect(c)\n",
    "        # Validating the detected object based on minimum width and height\n",
    "        validate_counter = (w>=min_width) and (w>= min_height)\n",
    "        if not validate_counter:\n",
    "            continue\n",
    "        # Drawing a rectangle around the detected object\n",
    "        cv2.rectangle(frame1,(x,y),(x+w,y+h),(0,0,255))\n",
    "\n",
    "        # Calculating the center of the detected object\n",
    "        center = counter(x,y,w,h)\n",
    "        # Adding the center of the detected object to the list\n",
    "        detect.append(center)\n",
    "        # Drawing a circle at the center of the detected object\n",
    "        cv2.circle(frame1,center,4,(0,0,255),-1)\n",
    "\n",
    "        # Looping through all the detected objects to check if they are on the line\n",
    "        for (x,y) in detect:\n",
    "            if(y>line_position-offset) and (y < line_position + offset):\n",
    "                # Increasing the counter if the object is on the line\n",
    "                count = count+1\n",
    "                detect.remove((x, y))\n",
    "                print(\"Vehicle Counter: \" + str(count))\n",
    "        cv2.line(frame1, (0, line_position), (1300, line_position), (0, 0, 255), 2)\n",
    "    cv2.putText(frame1,\"Vehicle Counter : \"+str(count),(450,70),cv2.FONT_HERSHEY_SIMPLEX,2,(0,0,255),5)\n",
    "    cv2.imshow(\"video original\",frame1)\n",
    "    if cv2.waitKey(1) == 13:\n",
    "            break\n",
    "cv2.destroyAllWindows()\n",
    "cap.release()\n"
   ]
  }
 ],
 "metadata": {
  "kernelspec": {
   "display_name": "Python 3 (ipykernel)",
   "language": "python",
   "name": "python3"
  },
  "language_info": {
   "codemirror_mode": {
    "name": "ipython",
    "version": 3
   },
   "file_extension": ".py",
   "mimetype": "text/x-python",
   "name": "python",
   "nbconvert_exporter": "python",
   "pygments_lexer": "ipython3",
   "version": "3.9.12"
  }
 },
 "nbformat": 4,
 "nbformat_minor": 5
}
